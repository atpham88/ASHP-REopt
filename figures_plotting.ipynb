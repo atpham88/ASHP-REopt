{
 "cells": [
  {
   "cell_type": "code",
   "execution_count": 2,
   "metadata": {},
   "outputs": [
    {
     "name": "stdout",
     "output_type": "stream",
     "text": [
      "Intel MKL WARNING: Support of Intel(R) Streaming SIMD Extensions 4.2 (Intel(R) SSE4.2) enabled only processors has been deprecated. Intel oneAPI Math Kernel Library 2025.0 will require Intel(R) Advanced Vector Extensions (Intel(R) AVX) instructions.\n",
      "Intel MKL WARNING: Support of Intel(R) Streaming SIMD Extensions 4.2 (Intel(R) SSE4.2) enabled only processors has been deprecated. Intel oneAPI Math Kernel Library 2025.0 will require Intel(R) Advanced Vector Extensions (Intel(R) AVX) instructions.\n"
     ]
    }
   ],
   "source": [
    "import pandas as pd\n",
    "import numpy as np\n",
    "import os\n",
    "import altair as alt\n",
    "from datetime import date\n",
    "import plotly.express as px\n",
    "import plotly.graph_objects as go\n",
    "import matplotlib.pyplot as plt"
   ]
  },
  {
   "cell_type": "code",
   "execution_count": 3,
   "metadata": {},
   "outputs": [
    {
     "name": "stderr",
     "output_type": "stream",
     "text": [
      "/var/folders/fq/kbf9x90n0fgc9b79z2qkwn_nty9ds7/T/ipykernel_11612/779286291.py:12: SettingWithCopyWarning: \n",
      "A value is trying to be set on a copy of a slice from a DataFrame.\n",
      "Try using .loc[row_indexer,col_indexer] = value instead\n",
      "\n",
      "See the caveats in the documentation: https://pandas.pydata.org/pandas-docs/stable/user_guide/indexing.html#returning-a-view-versus-a-copy\n",
      "  df['Value'] = -df['Value']/1000\n",
      "/var/folders/fq/kbf9x90n0fgc9b79z2qkwn_nty9ds7/T/ipykernel_11612/779286291.py:13: SettingWithCopyWarning: \n",
      "A value is trying to be set on a copy of a slice from a DataFrame.\n",
      "Try using .loc[row_indexer,col_indexer] = value instead\n",
      "\n",
      "See the caveats in the documentation: https://pandas.pydata.org/pandas-docs/stable/user_guide/indexing.html#returning-a-view-versus-a-copy\n",
      "  df['Fuel Cost Savings'] = df['Fuel Cost Savings']/1000\n",
      "/var/folders/fq/kbf9x90n0fgc9b79z2qkwn_nty9ds7/T/ipykernel_11612/779286291.py:14: SettingWithCopyWarning: \n",
      "A value is trying to be set on a copy of a slice from a DataFrame.\n",
      "Try using .loc[row_indexer,col_indexer] = value instead\n",
      "\n",
      "See the caveats in the documentation: https://pandas.pydata.org/pandas-docs/stable/user_guide/indexing.html#returning-a-view-versus-a-copy\n",
      "  df['LCCC'] = -df['LCCC']/1000\n",
      "/var/folders/fq/kbf9x90n0fgc9b79z2qkwn_nty9ds7/T/ipykernel_11612/779286291.py:15: SettingWithCopyWarning: \n",
      "A value is trying to be set on a copy of a slice from a DataFrame.\n",
      "Try using .loc[row_indexer,col_indexer] = value instead\n",
      "\n",
      "See the caveats in the documentation: https://pandas.pydata.org/pandas-docs/stable/user_guide/indexing.html#returning-a-view-versus-a-copy\n",
      "  df['LCCC'] = -df['Cost per ton']\n",
      "/var/folders/fq/kbf9x90n0fgc9b79z2qkwn_nty9ds7/T/ipykernel_11612/779286291.py:18: SettingWithCopyWarning: \n",
      "A value is trying to be set on a copy of a slice from a DataFrame.\n",
      "Try using .loc[row_indexer,col_indexer] = value instead\n",
      "\n",
      "See the caveats in the documentation: https://pandas.pydata.org/pandas-docs/stable/user_guide/indexing.html#returning-a-view-versus-a-copy\n",
      "  df['climate'] = ''\n"
     ]
    }
   ],
   "source": [
    "dir = os.getcwd()\n",
    "\n",
    "## NET SAVINGS PLOT\n",
    "file = \"ASHP_Case_Studies.xlsx\"\n",
    "em_data = pd.read_excel(os.path.join(dir, \"results\", \"results_summary\", file))\n",
    "\n",
    "# DATAFRAME PREPROCESSING\n",
    "em_data = em_data.rename(columns={'NPV':'Value', 'NPV-Fuel':'Fuel Cost Savings'})\n",
    "em_data = em_data[em_data['Configuration']==4]\n",
    "\n",
    "df = em_data[['Location', 'Value', 'Fuel Cost Savings', 'LCCC', 'Cost per ton', 'Building Type']]\n",
    "df['Value'] = -df['Value']/1000\n",
    "df['Fuel Cost Savings'] = df['Fuel Cost Savings']/1000\n",
    "df['LCCC'] = -df['LCCC']/1000\n",
    "df['LCCC'] = -df['Cost per ton']\n",
    "\n",
    "#   Add respective policy labels to dataframe\n",
    "df['climate'] = ''\n",
    "df.loc[df.Location.str.contains('Minneapolis'), 'climate'] = 'Cold Climate'\n",
    "df.loc[df.Location.str.contains('Chicago'), 'climate'] = 'Swing Climate'\n",
    "df.loc[df.Location.str.contains('Miami'), 'climate'] = 'Hot Climate'\n",
    "df.loc[df.Location.str.contains('LosAngeles'), 'climate'] = 'Other Climate'\n"
   ]
  },
  {
   "cell_type": "code",
   "execution_count": 4,
   "metadata": {},
   "outputs": [
    {
     "data": {
      "text/html": [
       "\n",
       "<style>\n",
       "  #altair-viz-e8e653b78e2045f69a9b0e6159e80dee.vega-embed {\n",
       "    width: 100%;\n",
       "    display: flex;\n",
       "  }\n",
       "\n",
       "  #altair-viz-e8e653b78e2045f69a9b0e6159e80dee.vega-embed details,\n",
       "  #altair-viz-e8e653b78e2045f69a9b0e6159e80dee.vega-embed details summary {\n",
       "    position: relative;\n",
       "  }\n",
       "</style>\n",
       "<div id=\"altair-viz-e8e653b78e2045f69a9b0e6159e80dee\"></div>\n",
       "<script type=\"text/javascript\">\n",
       "  var VEGA_DEBUG = (typeof VEGA_DEBUG == \"undefined\") ? {} : VEGA_DEBUG;\n",
       "  (function(spec, embedOpt){\n",
       "    let outputDiv = document.currentScript.previousElementSibling;\n",
       "    if (outputDiv.id !== \"altair-viz-e8e653b78e2045f69a9b0e6159e80dee\") {\n",
       "      outputDiv = document.getElementById(\"altair-viz-e8e653b78e2045f69a9b0e6159e80dee\");\n",
       "    }\n",
       "    const paths = {\n",
       "      \"vega\": \"https://cdn.jsdelivr.net/npm/vega@5?noext\",\n",
       "      \"vega-lib\": \"https://cdn.jsdelivr.net/npm/vega-lib?noext\",\n",
       "      \"vega-lite\": \"https://cdn.jsdelivr.net/npm/vega-lite@5.20.1?noext\",\n",
       "      \"vega-embed\": \"https://cdn.jsdelivr.net/npm/vega-embed@6?noext\",\n",
       "    };\n",
       "\n",
       "    function maybeLoadScript(lib, version) {\n",
       "      var key = `${lib.replace(\"-\", \"\")}_version`;\n",
       "      return (VEGA_DEBUG[key] == version) ?\n",
       "        Promise.resolve(paths[lib]) :\n",
       "        new Promise(function(resolve, reject) {\n",
       "          var s = document.createElement('script');\n",
       "          document.getElementsByTagName(\"head\")[0].appendChild(s);\n",
       "          s.async = true;\n",
       "          s.onload = () => {\n",
       "            VEGA_DEBUG[key] = version;\n",
       "            return resolve(paths[lib]);\n",
       "          };\n",
       "          s.onerror = () => reject(`Error loading script: ${paths[lib]}`);\n",
       "          s.src = paths[lib];\n",
       "        });\n",
       "    }\n",
       "\n",
       "    function showError(err) {\n",
       "      outputDiv.innerHTML = `<div class=\"error\" style=\"color:red;\">${err}</div>`;\n",
       "      throw err;\n",
       "    }\n",
       "\n",
       "    function displayChart(vegaEmbed) {\n",
       "      vegaEmbed(outputDiv, spec, embedOpt)\n",
       "        .catch(err => showError(`Javascript Error: ${err.message}<br>This usually means there's a typo in your chart specification. See the javascript console for the full traceback.`));\n",
       "    }\n",
       "\n",
       "    if(typeof define === \"function\" && define.amd) {\n",
       "      requirejs.config({paths});\n",
       "      require([\"vega-embed\"], displayChart, err => showError(`Error loading script: ${err.message}`));\n",
       "    } else {\n",
       "      maybeLoadScript(\"vega\", \"5\")\n",
       "        .then(() => maybeLoadScript(\"vega-lite\", \"5.20.1\"))\n",
       "        .then(() => maybeLoadScript(\"vega-embed\", \"6\"))\n",
       "        .catch(showError)\n",
       "        .then(() => displayChart(vegaEmbed));\n",
       "    }\n",
       "  })({\"config\": {\"view\": {\"continuousWidth\": 300, \"continuousHeight\": 300}, \"axis\": {\"grid\": false, \"labelFontSize\": 15, \"titleFontSize\": 15}, \"legend\": {\"labelFontSize\": 15, \"titleFontSize\": 15}}, \"data\": {\"name\": \"data-b242ddea884551786825f67f5f6ad8e5\"}, \"mark\": {\"type\": \"bar\", \"size\": 30}, \"encoding\": {\"facet\": {\"columns\": 4, \"field\": \"climate\", \"header\": {\"labelFontSize\": 18}, \"sort\": [\"Cold Climate\", \"Swing Climate\", \"Hot Climate\", \"Other Climate\"], \"title\": null, \"type\": \"nominal\"}, \"x\": {\"field\": \"Building Type\", \"sort\": [\"LargeOffice\", \"LargeHotel\", \"MidriseApartment\", \"RetailStore\", \"SecondarySchool\"], \"title\": null, \"type\": \"nominal\"}, \"y\": {\"axis\": {\"grid\": false, \"title\": \"Net Costs (thousand $)\"}, \"field\": \"Value\", \"type\": \"quantitative\"}}, \"height\": 300, \"width\": 300, \"$schema\": \"https://vega.github.io/schema/vega-lite/v5.20.1.json\", \"datasets\": {\"data-b242ddea884551786825f67f5f6ad8e5\": [{\"Location\": \"Minneapolis\", \"Value\": 608.9095295000001, \"Fuel Cost Savings\": 172.9763093, \"LCCC\": 2742.74923538447, \"Cost per ton\": -2742.74923538447, \"Building Type\": \"RetailStore\", \"climate\": \"Cold Climate\"}, {\"Location\": \"Miami\", \"Value\": 1620.6855203, \"Fuel Cost Savings\": 449.1760356, \"LCCC\": 2853.4602415259906, \"Cost per ton\": -2853.4602415259906, \"Building Type\": \"LargeHotel\", \"climate\": \"Hot Climate\"}, {\"Location\": \"Minneapolis\", \"Value\": 2186.2015110999996, \"Fuel Cost Savings\": 1288.0689633, \"LCCC\": 2867.5632040032, \"Cost per ton\": -2867.5632040032, \"Building Type\": \"LargeHotel\", \"climate\": \"Cold Climate\"}, {\"Location\": \"Minneapolis\", \"Value\": 430.0307992, \"Fuel Cost Savings\": 197.5363548, \"LCCC\": 2944.5290405631176, \"Cost per ton\": -2944.5290405631176, \"Building Type\": \"MidriseApartment\", \"climate\": \"Cold Climate\"}, {\"Location\": \"Chicago\", \"Value\": 1577.7724106, \"Fuel Cost Savings\": 1171.7982038, \"LCCC\": 2145.3010865382657, \"Cost per ton\": -2145.3010865382657, \"Building Type\": \"LargeHotel\", \"climate\": \"Swing Climate\"}, {\"Location\": \"LosAngeles\", \"Value\": 946.7355469999993, \"Fuel Cost Savings\": 967.5355565, \"LCCC\": 1979.5995094574746, \"Cost per ton\": -1979.5995094574746, \"Building Type\": \"LargeHotel\", \"climate\": \"Other Climate\"}, {\"Location\": \"Chicago\", \"Value\": 386.8968152999999, \"Fuel Cost Savings\": 142.51995860000002, \"LCCC\": 2289.6825268976286, \"Cost per ton\": -2289.6825268976286, \"Building Type\": \"RetailStore\", \"climate\": \"Swing Climate\"}, {\"Location\": \"LosAngeles\", \"Value\": 1853.861878800001, \"Fuel Cost Savings\": 258.8429285, \"LCCC\": 2642.259169921041, \"Cost per ton\": -2642.259169921041, \"Building Type\": \"LargeOffice\", \"climate\": \"Other Climate\"}, {\"Location\": \"Miami\", \"Value\": 2831.791518300001, \"Fuel Cost Savings\": 34.097679799999995, \"LCCC\": 2979.5786177399, \"Cost per ton\": -2979.5786177399, \"Building Type\": \"LargeOffice\", \"climate\": \"Hot Climate\"}, {\"Location\": \"LosAngeles\", \"Value\": 110.0135048999999, \"Fuel Cost Savings\": 78.1359966, \"LCCC\": 1950.801590594742, \"Cost per ton\": -1950.801590594742, \"Building Type\": \"MidriseApartment\", \"climate\": \"Other Climate\"}, {\"Location\": \"Chicago\", \"Value\": 3354.9258422, \"Fuel Cost Savings\": 911.4197955999999, \"LCCC\": 2278.664667691353, \"Cost per ton\": -2278.664667691353, \"Building Type\": \"SecondarySchool\", \"climate\": \"Swing Climate\"}, {\"Location\": \"LosAngeles\", \"Value\": 161.40124770000008, \"Fuel Cost Savings\": 27.5567336, \"LCCC\": 2282.644788425639, \"Cost per ton\": -2282.644788425639, \"Building Type\": \"RetailStore\", \"climate\": \"Other Climate\"}, {\"Location\": \"Chicago\", \"Value\": 3631.769715000001, \"Fuel Cost Savings\": 768.8564227999999, \"LCCC\": 2331.4545584688462, \"Cost per ton\": -2331.4545584688462, \"Building Type\": \"LargeOffice\", \"climate\": \"Swing Climate\"}, {\"Location\": \"Miami\", \"Value\": 326.9637856000001, \"Fuel Cost Savings\": 1.3918796, \"LCCC\": 2790.2933597316937, \"Cost per ton\": -2790.2933597316937, \"Building Type\": \"RetailStore\", \"climate\": \"Hot Climate\"}, {\"Location\": \"Chicago\", \"Value\": 268.1512876, \"Fuel Cost Savings\": 172.1937704, \"LCCC\": 2216.8591898148147, \"Cost per ton\": -2216.8591898148147, \"Building Type\": \"MidriseApartment\", \"climate\": \"Swing Climate\"}, {\"Location\": \"Miami\", \"Value\": 296.8143011000002, \"Fuel Cost Savings\": 22.596401699999998, \"LCCC\": 2809.9432083688366, \"Cost per ton\": -2809.9432083688366, \"Building Type\": \"MidriseApartment\", \"climate\": \"Hot Climate\"}, {\"Location\": \"LosAngeles\", \"Value\": 1779.374433, \"Fuel Cost Savings\": 244.08989920000002, \"LCCC\": 2411.5306717660915, \"Cost per ton\": -2411.5306717660915, \"Building Type\": \"SecondarySchool\", \"climate\": \"Other Climate\"}, {\"Location\": \"Miami\", \"Value\": 3782.861471799999, \"Fuel Cost Savings\": 52.097029199999994, \"LCCC\": 2714.0068629652556, \"Cost per ton\": -2714.0068629652556, \"Building Type\": \"SecondarySchool\", \"climate\": \"Hot Climate\"}, {\"Location\": \"Minneapolis\", \"Value\": 4510.5135782, \"Fuel Cost Savings\": 967.4672054, \"LCCC\": 2689.468844590251, \"Cost per ton\": -2689.468844590251, \"Building Type\": \"LargeOffice\", \"climate\": \"Cold Climate\"}, {\"Location\": \"Minneapolis\", \"Value\": 4569.7709362, \"Fuel Cost Savings\": 1152.2017337, \"LCCC\": 2625.126846053581, \"Cost per ton\": -2625.126846053581, \"Building Type\": \"SecondarySchool\", \"climate\": \"Cold Climate\"}]}}, {\"mode\": \"vega-lite\"});\n",
       "</script>"
      ],
      "text/plain": [
       "alt.Chart(...)"
      ]
     },
     "metadata": {},
     "output_type": "display_data"
    }
   ],
   "source": [
    "# Create pivot table of NPV of System Costs\n",
    "building_order = ['LargeOffice', 'LargeHotel', 'MidriseApartment', 'RetailStore', 'SecondarySchool']\n",
    "sch_order = ['Cold Climate', 'Swing Climate', 'Hot Climate', 'Other Climate']\n",
    "chart = alt.Chart(df).mark_bar(size=30).encode(\n",
    "    x=alt.X('Building Type:N', title=None, sort=building_order),\n",
    "    y=alt.Y('Value:Q', axis=alt.Axis(grid=False, title='Net Costs (thousand $)')),\n",
    "    facet=alt.Facet('climate', columns=4, title=None, header=alt.Header(labelFontSize=18), sort=sch_order)).configure_axis(titleFontSize=15, labelFontSize=15, grid=False\n",
    "                ).configure_legend(labelFontSize=15, titleFontSize=15).properties(width=200, height=350).properties(\n",
    "    width=300,\n",
    "    height=300\n",
    ").show()"
   ]
  }
 ],
 "metadata": {
  "kernelspec": {
   "display_name": "Python 3",
   "language": "python",
   "name": "python3"
  },
  "language_info": {
   "codemirror_mode": {
    "name": "ipython",
    "version": 3
   },
   "file_extension": ".py",
   "mimetype": "text/x-python",
   "name": "python",
   "nbconvert_exporter": "python",
   "pygments_lexer": "ipython3",
   "version": "3.10.14"
  }
 },
 "nbformat": 4,
 "nbformat_minor": 2
}
